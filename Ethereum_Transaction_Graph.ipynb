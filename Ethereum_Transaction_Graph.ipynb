{
 "cells": [
  {
   "cell_type": "code",
   "execution_count": 1,
   "id": "62d5adec",
   "metadata": {},
   "outputs": [
    {
     "name": "stdout",
     "output_type": "stream",
     "text": [
      "3.9.7\n"
     ]
    }
   ],
   "source": [
    "from platform import python_version\n",
    "\n",
    "print(python_version())"
   ]
  },
  {
   "cell_type": "code",
   "execution_count": null,
   "id": "aa1aff9f",
   "metadata": {},
   "outputs": [],
   "source": [
    "conda create -n Ethereum python=3.9.7 anaconda"
   ]
  },
  {
   "cell_type": "code",
   "execution_count": null,
   "id": "4640c1f5",
   "metadata": {},
   "outputs": [],
   "source": [
    "conda activate Ethereum"
   ]
  },
  {
   "cell_type": "code",
   "execution_count": null,
   "id": "a114da33",
   "metadata": {},
   "outputs": [],
   "source": [
    "conda install -n Ethereum package"
   ]
  },
  {
   "cell_type": "code",
   "execution_count": null,
   "id": "064881d4",
   "metadata": {},
   "outputs": [],
   "source": [
    "pip install autopep8\n",
    "conda install -c anaconda colorama\n",
    "pip install pycodestyle\n",
    "pip install python-dateutil\n",
    "pip install pytz\n",
    "import six\n",
    "from tqdm import tqdm\n",
    "conda -V\n",
    "conda update conda"
   ]
  },
  {
   "cell_type": "code",
   "execution_count": null,
   "id": "29ea349a",
   "metadata": {},
   "outputs": [],
   "source": [
    "--notebook-dir=<D:\\MSC_PROJECT> (NotebookManager.notebook_dir)\n",
    "    Default: 'D:\\MSC_PROJECT'\n",
    "    The directory to use for notebooks."
   ]
  },
  {
   "cell_type": "code",
   "execution_count": null,
   "id": "73892b40",
   "metadata": {},
   "outputs": [],
   "source": [
    "Ethereum\\Scripts\\activate (On Windows)"
   ]
  },
  {
   "cell_type": "code",
   "execution_count": null,
   "id": "70194f06",
   "metadata": {},
   "outputs": [],
   "source": [
    "pip install -r requirements.txt "
   ]
  },
  {
   "cell_type": "code",
   "execution_count": null,
   "id": "77329d9d",
   "metadata": {},
   "outputs": [],
   "source": [
    "zenodo_get -e 4718440 dfhdfdf fgSF"
   ]
  },
  {
   "cell_type": "code",
   "execution_count": null,
   "id": "1b8ce432",
   "metadata": {},
   "outputs": [],
   "source": [
    "from scripts.data import *\n",
    "from scripts.neo4j import *"
   ]
  },
  {
   "cell_type": "code",
   "execution_count": null,
   "id": "7802d4a9",
   "metadata": {},
   "outputs": [],
   "source": [
    "def main():\n",
    "    with driver.session() as session:\n",
    "        # Delete the graph\n",
    "        session.execute_write(delete_graph)\n",
    "        block_ranges = get_block_ranges(DATA_PATH)[:1]\n",
    "        for start, end in tqdm(block_ranges):\n",
    "            print(\"Loading data for block range {}-{}\".format(start, end))\n",
    "            tx_df = load_tx_in_range(start, end)\n",
    "            blocktime_df = load_blocktime_in_range(start, end)\n",
    "\n",
    "            print(\"Creating transactions\")\n",
    "            session.execute_write(create_txs, tx_df)\n",
    "\n",
    "             print(\"Adding block times\")\n",
    "             session.execute_write(add_block_time, blocktime_df)\n",
    "        example = read_example()\n",
    "        session.execute_write(create_txs, example)"
   ]
  },
  {
   "cell_type": "code",
   "execution_count": null,
   "id": "f0b8f82c",
   "metadata": {},
   "outputs": [],
   "source": []
  }
 ],
 "metadata": {
  "kernelspec": {
   "display_name": "Python 3 (ipykernel)",
   "language": "python",
   "name": "python3"
  },
  "language_info": {
   "codemirror_mode": {
    "name": "ipython",
    "version": 3
   },
   "file_extension": ".py",
   "mimetype": "text/x-python",
   "name": "python",
   "nbconvert_exporter": "python",
   "pygments_lexer": "ipython3",
   "version": "3.9.7"
  }
 },
 "nbformat": 4,
 "nbformat_minor": 5
}
